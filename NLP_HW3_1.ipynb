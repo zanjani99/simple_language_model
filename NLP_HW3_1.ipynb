{
 "cells": [
  {
   "cell_type": "code",
   "execution_count": 6,
   "metadata": {},
   "outputs": [],
   "source": [
    "CUDA_LAUNCH_BLOCKING=\"1\""
   ]
  },
  {
   "cell_type": "code",
   "execution_count": 7,
   "metadata": {},
   "outputs": [],
   "source": [
    "import re\n",
    "import math\n",
    "import time\n",
    "import scipy\n",
    "import collections\n",
    "import multiprocessing\n",
    "\n",
    "import pandas as pd\n",
    "import numpy as np\n",
    "import matplotlib.pyplot as plt\n",
    "import torch\n",
    "import torch.nn as nn\n",
    "import torch.optim as optim\n",
    "import torch.nn.functional as F\n",
    "\n",
    "from torch.utils.data import DataLoader, Dataset\n",
    "# from datasets import load_dataset\n",
    "from collections import defaultdict\n",
    "from nltk.util import ngrams\n",
    "from sklearn.feature_extraction.text import TfidfVectorizer\n",
    "# from torcheval.metrics.text import Perplexity"
   ]
  },
  {
   "cell_type": "code",
   "execution_count": 9,
   "metadata": {},
   "outputs": [
    {
     "name": "stdout",
     "output_type": "stream",
     "text": [
      "NLP-01-2-HW1-Data/train.txt\n"
     ]
    }
   ],
   "source": [
    "# mode='coding'\n",
    "mode='training'\n",
    "if mode =='training':\n",
    "    corpus_file_path = 'NLP-01-2-HW1-Data/train.txt'\n",
    "    val_file_path='NLP-01-2-HW1-Data/valid.txt'\n",
    "    device = 'cuda' if torch.cuda.is_available() else 'cpu'\n",
    "\n",
    "    num_epochs = 20\n",
    "else:\n",
    "    corpus_file_path = 'NLP-01-2-HW1-Data/test.txt'\n",
    "    val_file_path='NLP-01-2-HW1-Data/valid.txt'\n",
    "\n",
    "    # device = 'cpu'\n",
    "    device = 'cuda' if torch.cuda.is_available() else 'cpu'\n",
    "\n",
    "    num_epochs = 2\n",
    "\n",
    "print(corpus_file_path)"
   ]
  },
  {
   "cell_type": "code",
   "execution_count": 10,
   "metadata": {},
   "outputs": [
    {
     "name": "stdout",
     "output_type": "stream",
     "text": [
      " using cuda with 16 cpus\n"
     ]
    }
   ],
   "source": [
    "available_workers = multiprocessing.cpu_count()\n",
    "print(f' using {device} with {available_workers} cpus')"
   ]
  },
  {
   "cell_type": "code",
   "execution_count": 11,
   "metadata": {},
   "outputs": [],
   "source": [
    "def load_dataset(path):\n",
    "    with open(path, 'r') as file:\n",
    "        txt=file.read()\n",
    "    return txt"
   ]
  },
  {
   "cell_type": "code",
   "execution_count": 12,
   "metadata": {},
   "outputs": [],
   "source": [
    "def preprocess_txt(txt):\n",
    "    '''Preprocess the text by removing any unwanted characters,\n",
    "     converting all the text to lowercase'''\n",
    "    txt=\" \".join(re.findall(r\"[\\u0600-\\u06FF]+\", txt)) # delete all non_ persion texts\n",
    "\n",
    "    # remove any unwanted characters\n",
    "    txt=txt.replace('\\u200c',' ')\n",
    "    txt=txt.replace('\\n',' ')\n",
    "    txt = re.sub(\"\\d+\" ,\" \", txt)# delete numbers\n",
    "\n",
    "    txt= re.sub(r'[^\\w\\s]','',txt)\n",
    "    # convert all the english text to lowercase\n",
    "    txt=re.sub(' +', ' ',txt)\n",
    "    txt=txt.lower()\n",
    "    \n",
    "    \n",
    "    return txt"
   ]
  },
  {
   "cell_type": "code",
   "execution_count": 13,
   "metadata": {},
   "outputs": [
    {
     "data": {
      "text/plain": [
       "'همچنین جمالت فایلهای و'"
      ]
     },
     "execution_count": 13,
     "metadata": {},
     "output_type": "execute_result"
    }
   ],
   "source": [
    "preprocess_txt('همچنین جمالت فایلهای txt.mask . ۶۷و  hjg txt.incomplete ')"
   ]
  },
  {
   "cell_type": "code",
   "execution_count": 14,
   "metadata": {},
   "outputs": [],
   "source": [
    "def txt2word(txt):\n",
    "    # split the text into individual words.\n",
    "    words= txt.split(' ')\n",
    "    # remove '_' in case it appears individually as a word\n",
    "    if \"_\" in words:\n",
    "        words.remove(\"_\")\n",
    "    # delete empty strings\n",
    "    if \"\" in words:\n",
    "        words.remove(\"\")\n",
    "        \n",
    "    return words"
   ]
  },
  {
   "cell_type": "code",
   "execution_count": 15,
   "metadata": {},
   "outputs": [],
   "source": [
    "def txt2sentence(txt):\n",
    "    # split the text into individual sentence.\n",
    "    sentences=re.split(';|\\.|\\n|\\?|\\؟',txt)\n",
    "    # delete empty strings\n",
    "    if '' in sentences:\n",
    "        sentences.remove('')\n",
    "    \n",
    "    return sentences"
   ]
  },
  {
   "cell_type": "code",
   "execution_count": 17,
   "metadata": {},
   "outputs": [],
   "source": [
    "def create_vocab(corpus_txt):\n",
    "    # create voacab of corpus and delete the low frequent word from it\n",
    "    words_term_frequency_train={}\n",
    "    # UNK_symbol = \"<UNK>\"\n",
    "    vocab=set()\n",
    "    words_list = txt2word(corpus_txt)\n",
    "    # create term frequency of the words\n",
    "    for word in words_list:\n",
    "        words_term_frequency_train[word] = words_term_frequency_train.get(word,0) + 1\n",
    "    # create vocabulary and delete low frequency words\n",
    "    for word in words_list:\n",
    "        if words_term_frequency_train.get(word,0) >= 5:\n",
    "            vocab.add(word)\n",
    "    return vocab"
   ]
  },
  {
   "cell_type": "code",
   "execution_count": 18,
   "metadata": {},
   "outputs": [],
   "source": [
    "class CorpusDataset(Dataset):\n",
    "    def __init__(self, corpus_file_path, vocab,n=2):\n",
    "        \n",
    "        self.n=n\n",
    "        self.corpus =self.load_dataset(corpus_file_path)\n",
    "        self.corpus=[self.preprocess_txt(sentence) for sentence in self.txt2sentence(self.corpus)]\n",
    "        self.vocab = vocab\n",
    "        self.vocab_size=len(vocab)+1\n",
    "        self.clean_corpus()\n",
    "        self.word_to_id_mappings=self.create_mapper()\n",
    "        self.X,self.y=self.create_dataset()\n",
    "\n",
    "\n",
    "\n",
    "    def create_mapper(self):\n",
    "        # create dictionary that stores all word and their counts\n",
    "        word_to_id_mappings={'<UNK>':0}\n",
    "        for idx, word in enumerate(self.vocab,1):\n",
    "            word_to_id_mappings[word]=idx\n",
    "        return word_to_id_mappings\n",
    "\n",
    "    def word2idx(self,word):\n",
    "        unknown_word_id = self.word_to_id_mappings['<UNK>']\n",
    "        return self.word_to_id_mappings.get(word,unknown_word_id)\n",
    "\n",
    "    def load_dataset(self,path):\n",
    "        with open(path, 'r') as file:\n",
    "            txt=file.read()\n",
    "        return txt\n",
    "\n",
    "    def preprocess_txt(self,txt):\n",
    "        '''Preprocess the text by removing any unwanted characters,\n",
    "        converting all the text to lowercase'''\n",
    "        # delete all non_ persion texts\n",
    "        txt=\" \".join(re.findall(r\"[\\u0600-\\u06FF]+\", txt)) \n",
    "        # remove any unwanted characters\n",
    "        txt=txt.replace('\\u200c',' ')\n",
    "        txt=txt.replace('\\n',' ')\n",
    "        txt = re.sub(\"\\d+\" ,\" \", txt)# delete numbers\n",
    "        txt= re.sub(r'[^\\w\\s]','',txt)\n",
    "        # convert all the english text to lowercase\n",
    "        txt=re.sub(' +', ' ',txt)\n",
    "        # convert all the english text to lowercase\n",
    "        txt=txt.lower()  \n",
    "        return txt\n",
    "\n",
    "    def txt2sentence(self,txt):\n",
    "        # split the text into individual sentence.\n",
    "        sentences=re.split(';|\\.|\\n|\\?|\\؟',txt)\n",
    "        # delete empty strings\n",
    "        sentences=list (filter(lambda sent : sent!= '', sentences))\n",
    "        \n",
    "        return sentences\n",
    "        \n",
    "    \n",
    "    def clean_corpus(self):\n",
    "        self.corpus=list (filter(lambda sentence : sentence!= '', self.corpus))\n",
    "\n",
    "\n",
    "    def txt2word(self,txt):\n",
    "        # split the text into individual words.\n",
    "        words= txt.split(' ')\n",
    "        # remove '_' in case it appears individually as a word\n",
    "        if \"_\" in words:\n",
    "            words.remove(\"_\")\n",
    "        # delete empty strings\n",
    "        if \"\" in words:\n",
    "            words.remove(\"\")\n",
    "            \n",
    "        return words\n",
    "    \n",
    "\n",
    "    def create_dataset(self):\n",
    "        X=[]\n",
    "        y=[]\n",
    "        for sentence in self.corpus:\n",
    "            words_list=self.txt2word(sentence)\n",
    "            for i in range(len(words_list)):\n",
    "                if len(words_list)<= i+self.n:\n",
    "                    # ignoring sentece less than contex size \n",
    "                    # (if n=3 less than 4 words )\n",
    "                    break\n",
    "                \n",
    "                x_extract=[self.word2idx(words_list[i+j]) for j in range(self.n) ]\n",
    "                y_extraxt=[self.word2idx(words_list[i+self.n])]\n",
    "                # for n=3 x is[i,i+1,i+2]\n",
    "                # and y is [i+3]\n",
    "                \n",
    "                X.append(x_extract)\n",
    "                y.append(y_extraxt)\n",
    "        \n",
    "        return np.array(X),np.array(y)\n",
    "\n",
    "\n",
    "\n",
    "    def __getitem__(self, idx):\n",
    "        \n",
    "        x_1 = torch.from_numpy(self.X[idx]).to(device)\n",
    "        y_1 = torch.tensor(self.y[idx]).to(device)\n",
    "        return x_1,y_1\n",
    "        \n",
    "    \n",
    "    def __len__(self):\n",
    "        return len(self.X)\n",
    "\n",
    "\n"
   ]
  },
  {
   "cell_type": "code",
   "execution_count": 26,
   "metadata": {},
   "outputs": [],
   "source": [
    "class FFNNLanguageModel(nn.Module):\n",
    "    def __init__(self,vocab_size, embedding_dim, hidden_dim,n=2):\n",
    "        ''' output_dim=vocab_size\n",
    "        n : N previous word that we want to predict based on them (input context_size)\n",
    "        '''\n",
    "        super().__init__()\n",
    "        self.embedding_dim = embedding_dim\n",
    "        self.embedding=nn.Embedding(vocab_size, embedding_dim)# embeding layer E(V*d)\n",
    "        self.hidden_layer=nn.Linear(n*embedding_dim, hidden_dim)# hidden layer W(nd*d_h)\n",
    "        self.output_layer=nn.Linear(hidden_dim, vocab_size,bias = False)# output layer U (d_h*V)\n",
    "        self.n=n #input context_size\n",
    "    def forward(self,x):\n",
    " \n",
    "        # compute X : v*nd  if n=3 it will concatinate X1,X2,X3 for trigram model\n",
    "        embedded = self.embedding(x).view((-1,self.n * self.embedding_dim))\n",
    "        # compute  hidden layer\n",
    "        hidden = F.relu(self.hidden_layer(embedded))\n",
    "        # compute softmax of output\n",
    "        output = F.softmax(self.output_layer(hidden), dim=1)\n",
    "        # return log probabilities\n",
    "        # BATCH_SIZE x len(vocab)\n",
    "        return output"
   ]
  },
  {
   "cell_type": "code",
   "execution_count": 69,
   "metadata": {},
   "outputs": [],
   "source": [
    "def get_accuracy_from_log_probs(log_probs, labels):\n",
    "    probs = torch.exp(log_probs)\n",
    "    predicted_label = torch.argmax(probs, dim=1)\n",
    "    acc = (predicted_label == labels).float().mean()\n",
    "    return acc"
   ]
  },
  {
   "cell_type": "code",
   "execution_count": 70,
   "metadata": {},
   "outputs": [],
   "source": [
    "def plot_charts(train_losses,train_accu):\n",
    "    # plot accuracy and loss chart\n",
    "    fig = plt.figure()\n",
    "    plt.plot(list(range(num_epochs)), train_losses, color='blue')\n",
    "    plt.legend(['Train Loss', 'Test Loss'], loc='upper right')\n",
    "    plt.xlabel('epochs')\n",
    "    plt.ylabel('negative log likelihood loss')\n",
    "    plt.savefig(\"loss.png\")\n",
    "    plt.show()\n",
    "\n",
    "    fig = plt.figure()\n",
    "    plt.plot(list(range(num_epochs)), train_accu, color='blue')\n",
    "    plt.legend(['Train accuracy'], loc='upper right')\n",
    "    plt.xlabel('epochs')\n",
    "    plt.ylabel('accuracy')\n",
    "    plt.savefig(\"loss.png\")\n",
    "    plt.show()\n"
   ]
  },
  {
   "cell_type": "code",
   "execution_count": 71,
   "metadata": {},
   "outputs": [],
   "source": [
    "\n",
    "def train_model(data_loader,model,criterion,optimizer,num_epochs):\n",
    "    train_losses = []\n",
    "    train_accu=[]\n",
    "    for epoch in range(num_epochs):\n",
    "        running_loss = 0\n",
    "        st = time.time()\n",
    "        for i, (inputs, labels) in enumerate(data_loader):\n",
    "            optimizer.zero_grad()\n",
    "            outputs = model(inputs)\n",
    "\n",
    "            acc = get_accuracy_from_log_probs(outputs, labels)\n",
    "            \n",
    "            loss = criterion(outputs,labels.squeeze())\n",
    "\n",
    "            loss.backward()\n",
    "            optimizer.step()\n",
    "            running_loss += loss.item()\n",
    "            if i % 1000 == 0: \n",
    "                print(\"Training Iteration {} of epoch {}  Loss: {}; Acc:{}; Time taken (s): {}\".format(\n",
    "                    i, epoch, loss.item(), acc, (time.time()-st)))\n",
    "                st = time.time()\n",
    "        train_losses.append(running_loss/len(data_loader))\n",
    "        train_accu.append((100*acc.cpu().numpy()))\n",
    "        print(f'Epoch {epoch+1}/{num_epochs}, Loss: {running_loss/i:.4f},acc: {acc}')\n",
    "    return model,train_losses,train_accu"
   ]
  },
  {
   "cell_type": "markdown",
   "metadata": {},
   "source": [
    "# trigram NN model\n"
   ]
  },
  {
   "cell_type": "code",
   "execution_count": 23,
   "metadata": {},
   "outputs": [],
   "source": [
    "context_size=3"
   ]
  },
  {
   "attachments": {},
   "cell_type": "markdown",
   "metadata": {},
   "source": [
    "## create vocab"
   ]
  },
  {
   "cell_type": "code",
   "execution_count": 19,
   "metadata": {},
   "outputs": [],
   "source": [
    "train_corpus=load_dataset(corpus_file_path)\n",
    "train_preprocess_corpus=preprocess_txt(train_corpus)\n",
    "# train_vocab=create_vocab(train_corpus)\n",
    "vocab= create_vocab(train_corpus)"
   ]
  },
  {
   "cell_type": "code",
   "execution_count": 20,
   "metadata": {},
   "outputs": [],
   "source": [
    "val_corpus=load_dataset(val_file_path)\n",
    "val_preprocess_corpus=preprocess_txt(train_corpus)"
   ]
  },
  {
   "attachments": {},
   "cell_type": "markdown",
   "metadata": {},
   "source": [
    "# set up model"
   ]
  },
  {
   "cell_type": "code",
   "execution_count": 21,
   "metadata": {},
   "outputs": [],
   "source": [
    "embedding_dim = 200#len(train_dense_embed)\n",
    "hidden_dim = 100\n",
    "vocab_size = len(vocab)+1"
   ]
  },
  {
   "cell_type": "markdown",
   "metadata": {},
   "source": [
    "# laod data and create trigram"
   ]
  },
  {
   "cell_type": "code",
   "execution_count": 24,
   "metadata": {},
   "outputs": [],
   "source": [
    "dataset = CorpusDataset(corpus_file_path, vocab, n=context_size)\n",
    "data_loader = DataLoader(dataset, batch_size=32, shuffle=True)"
   ]
  },
  {
   "cell_type": "code",
   "execution_count": 25,
   "metadata": {},
   "outputs": [],
   "source": [
    "val_dataset = CorpusDataset(corpus_file_path, vocab, n=context_size)\n",
    "val_data_loader = DataLoader(dataset, batch_size=1, shuffle=True)"
   ]
  },
  {
   "cell_type": "code",
   "execution_count": 78,
   "metadata": {},
   "outputs": [],
   "source": [
    "# instantiate the model, loss function, and optimizer\n",
    "model = FFNNLanguageModel(vocab_size, embedding_dim, hidden_dim,n=context_size).to(device)\n",
    "criterion = nn.CrossEntropyLoss()\n",
    "# criterion=nn.NLLLoss()\n",
    "optimizer = torch.optim.Adam(model.parameters(), lr=0.002)"
   ]
  },
  {
   "cell_type": "markdown",
   "metadata": {},
   "source": [
    "# train and test the model"
   ]
  },
  {
   "cell_type": "code",
   "execution_count": 79,
   "metadata": {},
   "outputs": [
    {
     "name": "stdout",
     "output_type": "stream",
     "text": [
      "Training Iteration 0 of epoch 0  Loss: 8.904497146606445; Acc:0.0; Time taken (s): 0.014261722564697266\n",
      "Training Iteration 1000 of epoch 0  Loss: 8.84222412109375; Acc:0.0625; Time taken (s): 2.2114715576171875\n",
      "Training Iteration 2000 of epoch 0  Loss: 8.842225074768066; Acc:0.0625; Time taken (s): 2.1767807006835938\n",
      "Training Iteration 3000 of epoch 0  Loss: 8.87347412109375; Acc:0.03125; Time taken (s): 2.2114741802215576\n",
      "Training Iteration 4000 of epoch 0  Loss: 8.654725074768066; Acc:0.236328125; Time taken (s): 2.171353340148926\n",
      "Training Iteration 5000 of epoch 0  Loss: 8.748475074768066; Acc:0.1484375; Time taken (s): 2.1774001121520996\n",
      "Training Iteration 6000 of epoch 0  Loss: 8.779725074768066; Acc:0.125; Time taken (s): 2.1834452152252197\n",
      "Training Iteration 7000 of epoch 0  Loss: 8.779376029968262; Acc:0.150390625; Time taken (s): 2.225490093231201\n",
      "Training Iteration 8000 of epoch 0  Loss: 8.842225074768066; Acc:0.0625; Time taken (s): 2.174515724182129\n",
      "Training Iteration 9000 of epoch 0  Loss: 8.87347412109375; Acc:0.033203125; Time taken (s): 2.221036434173584\n",
      "Training Iteration 10000 of epoch 0  Loss: 8.748475074768066; Acc:0.1220703125; Time taken (s): 2.2688093185424805\n",
      "Epoch 1/20, Loss: 8.7737,acc: 0.2911111116409302\n",
      "Training Iteration 0 of epoch 1  Loss: 8.779725074768066; Acc:0.12109375; Time taken (s): 0.013029336929321289\n",
      "Training Iteration 1000 of epoch 1  Loss: 8.748479843139648; Acc:0.1484375; Time taken (s): 2.208810806274414\n",
      "Training Iteration 2000 of epoch 1  Loss: 8.810975074768066; Acc:0.0625; Time taken (s): 2.2200100421905518\n",
      "Training Iteration 3000 of epoch 1  Loss: 8.810975074768066; Acc:0.1171875; Time taken (s): 3.6466610431671143\n",
      "Training Iteration 4000 of epoch 1  Loss: 8.717225074768066; Acc:0.1826171875; Time taken (s): 2.665884256362915\n",
      "Training Iteration 5000 of epoch 1  Loss: 8.779725074768066; Acc:0.119140625; Time taken (s): 2.858510971069336\n",
      "Training Iteration 6000 of epoch 1  Loss: 8.873475074768066; Acc:0.0322265625; Time taken (s): 2.9915108680725098\n",
      "Training Iteration 7000 of epoch 1  Loss: 8.779725074768066; Acc:0.091796875; Time taken (s): 3.9894304275512695\n",
      "Training Iteration 8000 of epoch 1  Loss: 8.779725074768066; Acc:0.1259765625; Time taken (s): 3.435809850692749\n",
      "Training Iteration 9000 of epoch 1  Loss: 8.717225074768066; Acc:0.16796875; Time taken (s): 3.7653884887695312\n",
      "Training Iteration 10000 of epoch 1  Loss: 8.748475074768066; Acc:0.14453125; Time taken (s): 2.415928840637207\n",
      "Epoch 2/20, Loss: 8.7671,acc: 0.1666666716337204\n",
      "Training Iteration 0 of epoch 2  Loss: 8.810975074768066; Acc:0.0625; Time taken (s): 0.012807130813598633\n",
      "Training Iteration 1000 of epoch 2  Loss: 8.842216491699219; Acc:0.037109375; Time taken (s): 8.021608591079712\n",
      "Training Iteration 2000 of epoch 2  Loss: 8.748475074768066; Acc:0.0859375; Time taken (s): 4.059865474700928\n",
      "Training Iteration 3000 of epoch 2  Loss: 8.717235565185547; Acc:0.1787109375; Time taken (s): 2.176016330718994\n",
      "Training Iteration 4000 of epoch 2  Loss: 8.748475074768066; Acc:0.1533203125; Time taken (s): 3.0862412452697754\n",
      "Training Iteration 5000 of epoch 2  Loss: 8.71757984161377; Acc:0.14453125; Time taken (s): 2.1967015266418457\n",
      "Training Iteration 6000 of epoch 2  Loss: 8.84222412109375; Acc:0.064453125; Time taken (s): 3.69870924949646\n",
      "Training Iteration 7000 of epoch 2  Loss: 8.717225074768066; Acc:0.1484375; Time taken (s): 2.808805465698242\n",
      "Training Iteration 8000 of epoch 2  Loss: 8.842225074768066; Acc:0.060546875; Time taken (s): 2.083662271499634\n",
      "Training Iteration 9000 of epoch 2  Loss: 8.748475074768066; Acc:0.12109375; Time taken (s): 3.375631093978882\n",
      "Training Iteration 10000 of epoch 2  Loss: 8.717225074768066; Acc:0.1630859375; Time taken (s): 5.223684072494507\n",
      "Epoch 3/20, Loss: 8.7654,acc: 0.06555555760860443\n",
      "Training Iteration 0 of epoch 3  Loss: 8.748475074768066; Acc:0.15625; Time taken (s): 0.009855985641479492\n",
      "Training Iteration 1000 of epoch 3  Loss: 8.810975074768066; Acc:0.0927734375; Time taken (s): 5.35854697227478\n",
      "Training Iteration 2000 of epoch 3  Loss: 8.748475074768066; Acc:0.1513671875; Time taken (s): 2.824103832244873\n",
      "Training Iteration 3000 of epoch 3  Loss: 8.685972213745117; Acc:0.1689453125; Time taken (s): 2.4343369007110596\n",
      "Training Iteration 4000 of epoch 3  Loss: 8.810975074768066; Acc:0.05859375; Time taken (s): 2.621406316757202\n",
      "Training Iteration 5000 of epoch 3  Loss: 8.779725074768066; Acc:0.12109375; Time taken (s): 2.5422325134277344\n",
      "Training Iteration 6000 of epoch 3  Loss: 8.779725074768066; Acc:0.1201171875; Time taken (s): 3.4975016117095947\n",
      "Training Iteration 7000 of epoch 3  Loss: 8.717225074768066; Acc:0.146484375; Time taken (s): 2.994311809539795\n",
      "Training Iteration 8000 of epoch 3  Loss: 8.623475074768066; Acc:0.208984375; Time taken (s): 2.184157609939575\n",
      "Training Iteration 9000 of epoch 3  Loss: 8.779725074768066; Acc:0.087890625; Time taken (s): 2.5165183544158936\n",
      "Training Iteration 10000 of epoch 3  Loss: 8.811079025268555; Acc:0.08984375; Time taken (s): 3.416337728500366\n",
      "Epoch 4/20, Loss: 8.7640,acc: 0.2622222304344177\n",
      "Training Iteration 0 of epoch 4  Loss: 8.654725074768066; Acc:0.1669921875; Time taken (s): 0.009855031967163086\n",
      "Training Iteration 1000 of epoch 4  Loss: 8.810975074768066; Acc:0.1484375; Time taken (s): 2.3062307834625244\n",
      "Training Iteration 2000 of epoch 4  Loss: 8.810218811035156; Acc:0.119140625; Time taken (s): 2.1547553539276123\n",
      "Training Iteration 3000 of epoch 4  Loss: 8.810975074768066; Acc:0.0625; Time taken (s): 2.1165032386779785\n",
      "Training Iteration 4000 of epoch 4  Loss: 8.842225074768066; Acc:0.0546875; Time taken (s): 2.1855835914611816\n",
      "Training Iteration 5000 of epoch 4  Loss: 8.654725074768066; Acc:0.212890625; Time taken (s): 2.116865396499634\n",
      "Training Iteration 6000 of epoch 4  Loss: 8.748475074768066; Acc:0.123046875; Time taken (s): 2.1361753940582275\n",
      "Training Iteration 7000 of epoch 4  Loss: 8.779725074768066; Acc:0.0927734375; Time taken (s): 2.182953357696533\n",
      "Training Iteration 8000 of epoch 4  Loss: 8.810975074768066; Acc:0.09375; Time taken (s): 2.136106014251709\n",
      "Training Iteration 9000 of epoch 4  Loss: 8.779725074768066; Acc:0.12109375; Time taken (s): 2.132019281387329\n",
      "Training Iteration 10000 of epoch 4  Loss: 8.810975074768066; Acc:0.0908203125; Time taken (s): 2.1479289531707764\n",
      "Epoch 5/20, Loss: 8.7636,acc: 0.09555555880069733\n",
      "Training Iteration 0 of epoch 5  Loss: 8.654725074768066; Acc:0.181640625; Time taken (s): 0.012467622756958008\n",
      "Training Iteration 1000 of epoch 5  Loss: 8.810975074768066; Acc:0.087890625; Time taken (s): 2.1806538105010986\n",
      "Training Iteration 2000 of epoch 5  Loss: 8.717225074768066; Acc:0.2060546875; Time taken (s): 2.1686270236968994\n",
      "Training Iteration 3000 of epoch 5  Loss: 8.748475074768066; Acc:0.146484375; Time taken (s): 2.112037420272827\n",
      "Training Iteration 4000 of epoch 5  Loss: 8.810975074768066; Acc:0.1240234375; Time taken (s): 2.1987924575805664\n",
      "Training Iteration 5000 of epoch 5  Loss: 8.810975074768066; Acc:0.09375; Time taken (s): 2.149684429168701\n",
      "Training Iteration 6000 of epoch 5  Loss: 8.717225074768066; Acc:0.1171875; Time taken (s): 2.149247646331787\n",
      "Training Iteration 7000 of epoch 5  Loss: 8.779725074768066; Acc:0.12109375; Time taken (s): 2.617668390274048\n",
      "Training Iteration 8000 of epoch 5  Loss: 8.748476028442383; Acc:0.1474609375; Time taken (s): 2.2257144451141357\n",
      "Training Iteration 9000 of epoch 5  Loss: 8.685975074768066; Acc:0.17578125; Time taken (s): 2.458324432373047\n",
      "Training Iteration 10000 of epoch 5  Loss: 8.779725074768066; Acc:0.1171875; Time taken (s): 5.872956275939941\n",
      "Epoch 6/20, Loss: 8.7630,acc: 0.1577777862548828\n",
      "Training Iteration 0 of epoch 6  Loss: 8.779725074768066; Acc:0.09765625; Time taken (s): 0.010953664779663086\n",
      "Training Iteration 1000 of epoch 6  Loss: 8.810975074768066; Acc:0.0908203125; Time taken (s): 2.247706651687622\n",
      "Training Iteration 2000 of epoch 6  Loss: 8.623475074768066; Acc:0.232421875; Time taken (s): 6.471728086471558\n",
      "Training Iteration 3000 of epoch 6  Loss: 8.748475074768066; Acc:0.1416015625; Time taken (s): 2.470798969268799\n",
      "Training Iteration 4000 of epoch 6  Loss: 8.748475074768066; Acc:0.1513671875; Time taken (s): 2.311849594116211\n",
      "Training Iteration 5000 of epoch 6  Loss: 8.810975074768066; Acc:0.0625; Time taken (s): 2.3189239501953125\n",
      "Training Iteration 6000 of epoch 6  Loss: 8.810975074768066; Acc:0.0625; Time taken (s): 3.026627779006958\n",
      "Training Iteration 7000 of epoch 6  Loss: 8.779725074768066; Acc:0.0908203125; Time taken (s): 9.25258469581604\n",
      "Training Iteration 8000 of epoch 6  Loss: 8.748475074768066; Acc:0.09375; Time taken (s): 3.0843265056610107\n",
      "Training Iteration 9000 of epoch 6  Loss: 8.745984077453613; Acc:0.1484375; Time taken (s): 2.9870340824127197\n",
      "Training Iteration 10000 of epoch 6  Loss: 8.779725074768066; Acc:0.1328125; Time taken (s): 3.6774632930755615\n",
      "Epoch 7/20, Loss: 8.7623,acc: 0.16111111640930176\n",
      "Training Iteration 0 of epoch 7  Loss: 8.717225074768066; Acc:0.1875; Time taken (s): 0.00979924201965332\n",
      "Training Iteration 1000 of epoch 7  Loss: 8.748475074768066; Acc:0.150390625; Time taken (s): 7.6043291091918945\n",
      "Training Iteration 2000 of epoch 7  Loss: 8.842225074768066; Acc:0.0654296875; Time taken (s): 7.084076404571533\n",
      "Training Iteration 3000 of epoch 7  Loss: 8.873475074768066; Acc:0.0341796875; Time taken (s): 5.195953607559204\n",
      "Training Iteration 4000 of epoch 7  Loss: 8.842225074768066; Acc:0.03125; Time taken (s): 3.75616717338562\n",
      "Training Iteration 5000 of epoch 7  Loss: 8.748475074768066; Acc:0.1201171875; Time taken (s): 6.978637933731079\n",
      "Training Iteration 6000 of epoch 7  Loss: 8.685975074768066; Acc:0.1728515625; Time taken (s): 9.643666505813599\n",
      "Training Iteration 7000 of epoch 7  Loss: 8.810975074768066; Acc:0.0615234375; Time taken (s): 10.39396333694458\n",
      "Training Iteration 8000 of epoch 7  Loss: 8.717225074768066; Acc:0.1875; Time taken (s): 8.592565059661865\n",
      "Training Iteration 9000 of epoch 7  Loss: 8.748475074768066; Acc:0.1474609375; Time taken (s): 4.088606357574463\n",
      "Training Iteration 10000 of epoch 7  Loss: 8.685975074768066; Acc:0.1708984375; Time taken (s): 4.2867591381073\n",
      "Epoch 8/20, Loss: 8.7624,acc: 0.06111111119389534\n",
      "Training Iteration 0 of epoch 8  Loss: 8.873475074768066; Acc:0.0341796875; Time taken (s): 0.012886285781860352\n",
      "Training Iteration 1000 of epoch 8  Loss: 8.748475074768066; Acc:0.15625; Time taken (s): 3.370697021484375\n",
      "Training Iteration 2000 of epoch 8  Loss: 8.654725074768066; Acc:0.201171875; Time taken (s): 3.6008317470550537\n",
      "Training Iteration 3000 of epoch 8  Loss: 8.748475074768066; Acc:0.1171875; Time taken (s): 2.792473554611206\n",
      "Training Iteration 4000 of epoch 8  Loss: 8.842225074768066; Acc:0.03125; Time taken (s): 3.896132707595825\n",
      "Training Iteration 5000 of epoch 8  Loss: 8.748475074768066; Acc:0.08984375; Time taken (s): 9.560617446899414\n",
      "Training Iteration 6000 of epoch 8  Loss: 8.779725074768066; Acc:0.1220703125; Time taken (s): 9.10163950920105\n",
      "Training Iteration 7000 of epoch 8  Loss: 8.810975074768066; Acc:0.060546875; Time taken (s): 9.142122030258179\n",
      "Training Iteration 8000 of epoch 8  Loss: 8.904725074768066; Acc:0.0; Time taken (s): 4.192680597305298\n",
      "Training Iteration 9000 of epoch 8  Loss: 8.685975074768066; Acc:0.1845703125; Time taken (s): 2.173563003540039\n",
      "Training Iteration 10000 of epoch 8  Loss: 8.873475074768066; Acc:0.033203125; Time taken (s): 2.1942403316497803\n",
      "Epoch 9/20, Loss: 8.7620,acc: 0.2588889002799988\n",
      "Training Iteration 0 of epoch 9  Loss: 8.717225074768066; Acc:0.123046875; Time taken (s): 0.012234687805175781\n",
      "Training Iteration 1000 of epoch 9  Loss: 8.717225074768066; Acc:0.181640625; Time taken (s): 2.2131710052490234\n",
      "Training Iteration 2000 of epoch 9  Loss: 8.748475074768066; Acc:0.1181640625; Time taken (s): 2.227224826812744\n",
      "Training Iteration 3000 of epoch 9  Loss: 8.810975074768066; Acc:0.0625; Time taken (s): 2.1840193271636963\n",
      "Training Iteration 4000 of epoch 9  Loss: 8.717225074768066; Acc:0.150390625; Time taken (s): 2.2112162113189697\n",
      "Training Iteration 5000 of epoch 9  Loss: 8.810975074768066; Acc:0.091796875; Time taken (s): 2.1633102893829346\n",
      "Training Iteration 6000 of epoch 9  Loss: 8.810975074768066; Acc:0.09375; Time taken (s): 2.2019002437591553\n",
      "Training Iteration 7000 of epoch 9  Loss: 8.748475074768066; Acc:0.1181640625; Time taken (s): 2.265026569366455\n",
      "Training Iteration 8000 of epoch 9  Loss: 8.779725074768066; Acc:0.0869140625; Time taken (s): 2.1803059577941895\n",
      "Training Iteration 9000 of epoch 9  Loss: 8.685975074768066; Acc:0.212890625; Time taken (s): 2.170933485031128\n",
      "Training Iteration 10000 of epoch 9  Loss: 8.810975074768066; Acc:0.0849609375; Time taken (s): 2.2026193141937256\n",
      "Epoch 10/20, Loss: 8.7620,acc: 0.09333333373069763\n",
      "Training Iteration 0 of epoch 10  Loss: 8.748475074768066; Acc:0.1513671875; Time taken (s): 0.012346982955932617\n",
      "Training Iteration 1000 of epoch 10  Loss: 8.685975074768066; Acc:0.20703125; Time taken (s): 2.194079875946045\n",
      "Training Iteration 2000 of epoch 10  Loss: 8.810975074768066; Acc:0.09375; Time taken (s): 2.23454213142395\n",
      "Training Iteration 3000 of epoch 10  Loss: 8.685975074768066; Acc:0.1767578125; Time taken (s): 2.1599695682525635\n",
      "Training Iteration 4000 of epoch 10  Loss: 8.717225074768066; Acc:0.17578125; Time taken (s): 2.195289373397827\n",
      "Training Iteration 5000 of epoch 10  Loss: 8.779725074768066; Acc:0.1103515625; Time taken (s): 2.1881725788116455\n",
      "Training Iteration 6000 of epoch 10  Loss: 8.810975074768066; Acc:0.0595703125; Time taken (s): 2.1851727962493896\n",
      "Training Iteration 7000 of epoch 10  Loss: 8.748475074768066; Acc:0.1513671875; Time taken (s): 2.239154100418091\n",
      "Training Iteration 8000 of epoch 10  Loss: 8.779725074768066; Acc:0.1162109375; Time taken (s): 2.1619718074798584\n",
      "Training Iteration 9000 of epoch 10  Loss: 8.842225074768066; Acc:0.0322265625; Time taken (s): 2.1506927013397217\n",
      "Training Iteration 10000 of epoch 10  Loss: 8.592225074768066; Acc:0.2314453125; Time taken (s): 2.1848807334899902\n",
      "Epoch 11/20, Loss: 8.7612,acc: 0.06444444507360458\n",
      "Training Iteration 0 of epoch 11  Loss: 8.842225074768066; Acc:0.0908203125; Time taken (s): 0.012407302856445312\n",
      "Training Iteration 1000 of epoch 11  Loss: 8.779725074768066; Acc:0.123046875; Time taken (s): 2.1585304737091064\n",
      "Training Iteration 2000 of epoch 11  Loss: 8.748475074768066; Acc:0.09375; Time taken (s): 2.2111682891845703\n",
      "Training Iteration 3000 of epoch 11  Loss: 8.623475074768066; Acc:0.2216796875; Time taken (s): 2.175309896469116\n",
      "Training Iteration 4000 of epoch 11  Loss: 8.748475074768066; Acc:0.115234375; Time taken (s): 2.186828374862671\n",
      "Training Iteration 5000 of epoch 11  Loss: 8.779725074768066; Acc:0.0888671875; Time taken (s): 2.1697096824645996\n",
      "Training Iteration 6000 of epoch 11  Loss: 8.74847412109375; Acc:0.107421875; Time taken (s): 2.151493549346924\n",
      "Training Iteration 7000 of epoch 11  Loss: 8.748475074768066; Acc:0.146484375; Time taken (s): 2.2450623512268066\n",
      "Training Iteration 8000 of epoch 11  Loss: 8.748475074768066; Acc:0.0849609375; Time taken (s): 2.1609537601470947\n",
      "Training Iteration 9000 of epoch 11  Loss: 8.592225074768066; Acc:0.2080078125; Time taken (s): 2.156252145767212\n",
      "Training Iteration 10000 of epoch 11  Loss: 8.685975074768066; Acc:0.20703125; Time taken (s): 2.2034406661987305\n",
      "Epoch 12/20, Loss: 8.7613,acc: 0.0833333358168602\n",
      "Training Iteration 0 of epoch 12  Loss: 8.717225074768066; Acc:0.17578125; Time taken (s): 0.012328624725341797\n",
      "Training Iteration 1000 of epoch 12  Loss: 8.685975074768066; Acc:0.15234375; Time taken (s): 2.1657557487487793\n",
      "Training Iteration 2000 of epoch 12  Loss: 8.779725074768066; Acc:0.12109375; Time taken (s): 2.166469097137451\n",
      "Training Iteration 3000 of epoch 12  Loss: 8.717225074768066; Acc:0.14453125; Time taken (s): 2.1326751708984375\n",
      "Training Iteration 4000 of epoch 12  Loss: 8.717225074768066; Acc:0.1533203125; Time taken (s): 2.2029175758361816\n",
      "Training Iteration 5000 of epoch 12  Loss: 8.810975074768066; Acc:0.05859375; Time taken (s): 2.164459466934204\n",
      "Training Iteration 6000 of epoch 12  Loss: 8.842225074768066; Acc:0.05859375; Time taken (s): 2.134493350982666\n",
      "Training Iteration 7000 of epoch 12  Loss: 8.654725074768066; Acc:0.23828125; Time taken (s): 2.2282488346099854\n",
      "Training Iteration 8000 of epoch 12  Loss: 8.748475074768066; Acc:0.1513671875; Time taken (s): 2.1439573764801025\n",
      "Training Iteration 9000 of epoch 12  Loss: 8.717225074768066; Acc:0.1748046875; Time taken (s): 2.1744158267974854\n",
      "Training Iteration 10000 of epoch 12  Loss: 8.842225074768066; Acc:0.04296875; Time taken (s): 2.2099883556365967\n",
      "Epoch 13/20, Loss: 8.7611,acc: 0.12888889014720917\n",
      "Training Iteration 0 of epoch 13  Loss: 8.779725074768066; Acc:0.12109375; Time taken (s): 0.012733936309814453\n",
      "Training Iteration 1000 of epoch 13  Loss: 8.810975074768066; Acc:0.0673828125; Time taken (s): 2.1833462715148926\n",
      "Training Iteration 2000 of epoch 13  Loss: 8.717225074768066; Acc:0.177734375; Time taken (s): 2.1567399501800537\n",
      "Training Iteration 3000 of epoch 13  Loss: 8.74847412109375; Acc:0.13671875; Time taken (s): 2.140760898590088\n",
      "Training Iteration 4000 of epoch 13  Loss: 8.717225074768066; Acc:0.17578125; Time taken (s): 2.159036159515381\n",
      "Training Iteration 5000 of epoch 13  Loss: 8.717225074768066; Acc:0.1142578125; Time taken (s): 2.1809027194976807\n",
      "Training Iteration 6000 of epoch 13  Loss: 8.779725074768066; Acc:0.12109375; Time taken (s): 2.1621253490448\n",
      "Training Iteration 7000 of epoch 13  Loss: 8.779725074768066; Acc:0.0908203125; Time taken (s): 2.24458646774292\n",
      "Training Iteration 8000 of epoch 13  Loss: 8.748475074768066; Acc:0.15625; Time taken (s): 2.163228750228882\n",
      "Training Iteration 9000 of epoch 13  Loss: 8.842225074768066; Acc:0.0615234375; Time taken (s): 2.165040969848633\n",
      "Training Iteration 10000 of epoch 13  Loss: 8.842225074768066; Acc:0.033203125; Time taken (s): 2.192023277282715\n",
      "Epoch 14/20, Loss: 8.7607,acc: 0.06555555760860443\n",
      "Training Iteration 0 of epoch 14  Loss: 8.842225074768066; Acc:0.0341796875; Time taken (s): 0.012628555297851562\n",
      "Training Iteration 1000 of epoch 14  Loss: 8.717225074768066; Acc:0.177734375; Time taken (s): 2.147859811782837\n",
      "Training Iteration 2000 of epoch 14  Loss: 8.873475074768066; Acc:0.03125; Time taken (s): 2.1744706630706787\n",
      "Training Iteration 3000 of epoch 14  Loss: 8.717225074768066; Acc:0.119140625; Time taken (s): 2.122401475906372\n",
      "Training Iteration 4000 of epoch 14  Loss: 8.717225074768066; Acc:0.125; Time taken (s): 2.1697757244110107\n",
      "Training Iteration 5000 of epoch 14  Loss: 8.74847412109375; Acc:0.0888671875; Time taken (s): 2.161245822906494\n",
      "Training Iteration 6000 of epoch 14  Loss: 8.685975074768066; Acc:0.18359375; Time taken (s): 2.1798412799835205\n",
      "Training Iteration 7000 of epoch 14  Loss: 8.873475074768066; Acc:0.029296875; Time taken (s): 2.210838794708252\n",
      "Training Iteration 8000 of epoch 14  Loss: 8.779725074768066; Acc:0.060546875; Time taken (s): 2.1502151489257812\n",
      "Training Iteration 9000 of epoch 14  Loss: 8.685975074768066; Acc:0.1796875; Time taken (s): 2.1393609046936035\n",
      "Training Iteration 10000 of epoch 14  Loss: 8.717225074768066; Acc:0.150390625; Time taken (s): 2.1796247959136963\n",
      "Epoch 15/20, Loss: 8.7604,acc: 0.10000000149011612\n",
      "Training Iteration 0 of epoch 15  Loss: 8.685975074768066; Acc:0.17578125; Time taken (s): 0.010148286819458008\n",
      "Training Iteration 1000 of epoch 15  Loss: 8.77972412109375; Acc:0.12109375; Time taken (s): 2.1833579540252686\n",
      "Training Iteration 2000 of epoch 15  Loss: 8.717225074768066; Acc:0.1826171875; Time taken (s): 2.2014496326446533\n",
      "Training Iteration 3000 of epoch 15  Loss: 8.748475074768066; Acc:0.1455078125; Time taken (s): 2.1723599433898926\n",
      "Training Iteration 4000 of epoch 15  Loss: 8.842225074768066; Acc:0.0595703125; Time taken (s): 2.2434401512145996\n",
      "Training Iteration 5000 of epoch 15  Loss: 8.623475074768066; Acc:0.2470703125; Time taken (s): 2.1872198581695557\n",
      "Training Iteration 6000 of epoch 15  Loss: 8.810975074768066; Acc:0.12109375; Time taken (s): 2.1608362197875977\n",
      "Training Iteration 7000 of epoch 15  Loss: 8.623475074768066; Acc:0.2294921875; Time taken (s): 2.1860833168029785\n",
      "Training Iteration 8000 of epoch 15  Loss: 8.685975074768066; Acc:0.1796875; Time taken (s): 2.1528494358062744\n",
      "Training Iteration 9000 of epoch 15  Loss: 8.748475074768066; Acc:0.1474609375; Time taken (s): 2.1748204231262207\n",
      "Training Iteration 10000 of epoch 15  Loss: 8.779725074768066; Acc:0.11328125; Time taken (s): 2.1505749225616455\n",
      "Epoch 16/20, Loss: 8.7602,acc: 0.03333333507180214\n",
      "Training Iteration 0 of epoch 16  Loss: 8.717225074768066; Acc:0.1826171875; Time taken (s): 0.012273311614990234\n",
      "Training Iteration 1000 of epoch 16  Loss: 8.810975074768066; Acc:0.087890625; Time taken (s): 2.174319267272949\n",
      "Training Iteration 2000 of epoch 16  Loss: 8.685975074768066; Acc:0.19921875; Time taken (s): 2.1412851810455322\n",
      "Training Iteration 3000 of epoch 16  Loss: 8.810975074768066; Acc:0.06640625; Time taken (s): 2.121297836303711\n",
      "Training Iteration 4000 of epoch 16  Loss: 8.779725074768066; Acc:0.1220703125; Time taken (s): 2.172924280166626\n",
      "Training Iteration 5000 of epoch 16  Loss: 8.685975074768066; Acc:0.17578125; Time taken (s): 2.129152774810791\n",
      "Training Iteration 6000 of epoch 16  Loss: 8.748475074768066; Acc:0.1220703125; Time taken (s): 2.1787614822387695\n",
      "Training Iteration 7000 of epoch 16  Loss: 8.779725074768066; Acc:0.08984375; Time taken (s): 2.1869497299194336\n",
      "Training Iteration 8000 of epoch 16  Loss: 8.810975074768066; Acc:0.08984375; Time taken (s): 2.158989191055298\n",
      "Training Iteration 9000 of epoch 16  Loss: 8.748475074768066; Acc:0.14453125; Time taken (s): 2.154980182647705\n",
      "Training Iteration 10000 of epoch 16  Loss: 8.842225074768066; Acc:0.0634765625; Time taken (s): 2.1602423191070557\n",
      "Epoch 17/20, Loss: 8.7603,acc: 0.23111110925674438\n",
      "Training Iteration 0 of epoch 17  Loss: 8.779725074768066; Acc:0.10546875; Time taken (s): 0.00947260856628418\n",
      "Training Iteration 1000 of epoch 17  Loss: 8.748475074768066; Acc:0.14453125; Time taken (s): 2.1996684074401855\n",
      "Training Iteration 2000 of epoch 17  Loss: 8.685975074768066; Acc:0.181640625; Time taken (s): 2.1611838340759277\n",
      "Training Iteration 3000 of epoch 17  Loss: 8.748475074768066; Acc:0.13671875; Time taken (s): 2.1613199710845947\n",
      "Training Iteration 4000 of epoch 17  Loss: 8.717225074768066; Acc:0.14453125; Time taken (s): 2.1770713329315186\n",
      "Training Iteration 5000 of epoch 17  Loss: 8.685975074768066; Acc:0.173828125; Time taken (s): 2.169504165649414\n",
      "Training Iteration 6000 of epoch 17  Loss: 8.717225074768066; Acc:0.146484375; Time taken (s): 2.204282522201538\n",
      "Training Iteration 7000 of epoch 17  Loss: 8.717225074768066; Acc:0.1484375; Time taken (s): 2.17154598236084\n",
      "Training Iteration 8000 of epoch 17  Loss: 8.748475074768066; Acc:0.15234375; Time taken (s): 2.1325926780700684\n",
      "Training Iteration 9000 of epoch 17  Loss: 8.717225074768066; Acc:0.14453125; Time taken (s): 2.1368649005889893\n",
      "Training Iteration 10000 of epoch 17  Loss: 8.717225074768066; Acc:0.1484375; Time taken (s): 2.154520273208618\n",
      "Epoch 18/20, Loss: 8.7600,acc: 0.11555555462837219\n",
      "Training Iteration 0 of epoch 18  Loss: 8.779725074768066; Acc:0.1181640625; Time taken (s): 0.010355710983276367\n",
      "Training Iteration 1000 of epoch 18  Loss: 8.717225074768066; Acc:0.1875; Time taken (s): 2.1949753761291504\n",
      "Training Iteration 2000 of epoch 18  Loss: 8.685975074768066; Acc:0.16796875; Time taken (s): 2.2100372314453125\n",
      "Training Iteration 3000 of epoch 18  Loss: 8.842225074768066; Acc:0.0576171875; Time taken (s): 2.1515958309173584\n",
      "Training Iteration 4000 of epoch 18  Loss: 8.810975074768066; Acc:0.087890625; Time taken (s): 2.171515464782715\n",
      "Training Iteration 5000 of epoch 18  Loss: 8.810975074768066; Acc:0.0654296875; Time taken (s): 2.172917366027832\n",
      "Training Iteration 6000 of epoch 18  Loss: 8.748475074768066; Acc:0.140625; Time taken (s): 2.205641746520996\n",
      "Training Iteration 7000 of epoch 18  Loss: 8.654725074768066; Acc:0.2421875; Time taken (s): 2.2188034057617188\n",
      "Training Iteration 8000 of epoch 18  Loss: 8.842225074768066; Acc:0.0859375; Time taken (s): 2.191612958908081\n",
      "Training Iteration 9000 of epoch 18  Loss: 8.810975074768066; Acc:0.0908203125; Time taken (s): 2.170799732208252\n",
      "Training Iteration 10000 of epoch 18  Loss: 8.810975074768066; Acc:0.087890625; Time taken (s): 2.1884067058563232\n",
      "Epoch 19/20, Loss: 8.7602,acc: 0.09333333373069763\n",
      "Training Iteration 0 of epoch 19  Loss: 8.685975074768066; Acc:0.177734375; Time taken (s): 0.009740829467773438\n",
      "Training Iteration 1000 of epoch 19  Loss: 8.779725074768066; Acc:0.0849609375; Time taken (s): 2.2344868183135986\n",
      "Training Iteration 2000 of epoch 19  Loss: 8.810975074768066; Acc:0.0849609375; Time taken (s): 2.1687090396881104\n",
      "Training Iteration 3000 of epoch 19  Loss: 8.654725074768066; Acc:0.2138671875; Time taken (s): 2.2091469764709473\n",
      "Training Iteration 4000 of epoch 19  Loss: 8.685975074768066; Acc:0.205078125; Time taken (s): 2.168234348297119\n",
      "Training Iteration 5000 of epoch 19  Loss: 8.810975074768066; Acc:0.0703125; Time taken (s): 2.136151075363159\n",
      "Training Iteration 6000 of epoch 19  Loss: 8.810975074768066; Acc:0.091796875; Time taken (s): 2.1747002601623535\n",
      "Training Iteration 7000 of epoch 19  Loss: 8.717225074768066; Acc:0.154296875; Time taken (s): 2.231616973876953\n",
      "Training Iteration 8000 of epoch 19  Loss: 8.748475074768066; Acc:0.150390625; Time taken (s): 2.1798176765441895\n",
      "Training Iteration 9000 of epoch 19  Loss: 8.810975074768066; Acc:0.0625; Time taken (s): 2.193448066711426\n",
      "Training Iteration 10000 of epoch 19  Loss: 8.623475074768066; Acc:0.1923828125; Time taken (s): 2.529916524887085\n",
      "Epoch 20/20, Loss: 8.7602,acc: 0.20000000298023224\n"
     ]
    }
   ],
   "source": [
    "model,train_losses,train_accu=train_model(data_loader,model,criterion,optimizer,num_epochs)\n"
   ]
  },
  {
   "cell_type": "code",
   "execution_count": 80,
   "metadata": {},
   "outputs": [],
   "source": [
    "torch.save(model, f'./FFLM_{num_epochs}_{context_size}gram.pth')"
   ]
  },
  {
   "cell_type": "code",
   "execution_count": 81,
   "metadata": {},
   "outputs": [
    {
     "data": {
      "image/png": "[encoded data removed]",
      "text/plain": [
       "<Figure size 640x480 with 1 Axes>"
      ]
     },
     "metadata": {},
     "output_type": "display_data"
    },
    {
     "data": {
      "image/png": "[encoded data removed]",
      "text/plain": [
       "<Figure size 640x480 with 1 Axes>"
      ]
     },
     "metadata": {},
     "output_type": "display_data"
    }
   ],
   "source": [
    "plot_charts(train_losses,train_accu)"
   ]
  },
  {
   "cell_type": "code",
   "execution_count": null,
   "metadata": {},
   "outputs": [],
   "source": []
  },
  {
   "cell_type": "code",
   "execution_count": 36,
   "metadata": {},
   "outputs": [],
   "source": [
    "model=torch.load('./FFLM_20_3gram.pth')\n"
   ]
  },
  {
   "cell_type": "code",
   "execution_count": null,
   "metadata": {},
   "outputs": [],
   "source": [
    "num_batches = 0\n",
    "with torch.no_grad():\n",
    "    for i, (inputs, labels) in enumerate(val_data_loader):\n",
    "        # Get predictions from the model\n",
    "        outputs = model(inputs)\n",
    "        # Compute the loss\n",
    "        loss = F.cross_entropy(outputs, labels.view(-1))\n",
    "        total_loss += loss.item()\n",
    "        num_batches += 1"
   ]
  },
  {
   "cell_type": "code",
   "execution_count": null,
   "metadata": {},
   "outputs": [],
   "source": [
    "perplexity = torch.exp(torch.tensor(total_loss / num_batches))"
   ]
  },
  {
   "cell_type": "code",
   "execution_count": null,
   "metadata": {},
   "outputs": [
    {
     "data": {
      "text/plain": [
       "tensor(6530.5562)"
      ]
     },
     "metadata": {},
     "output_type": "display_data"
    }
   ],
   "source": [
    "perplexity"
   ]
  },
  {
   "attachments": {},
   "cell_type": "markdown",
   "metadata": {},
   "source": [
    "# bigram NN model"
   ]
  },
  {
   "cell_type": "code",
   "execution_count": 38,
   "metadata": {},
   "outputs": [],
   "source": [
    "context_size=2"
   ]
  },
  {
   "cell_type": "code",
   "execution_count": 44,
   "metadata": {},
   "outputs": [],
   "source": [
    "dataset = CorpusDataset(corpus_file_path, vocab, n=context_size)\n",
    "data_loader = DataLoader(dataset, batch_size=32, shuffle=True)"
   ]
  },
  {
   "cell_type": "code",
   "execution_count": 45,
   "metadata": {},
   "outputs": [],
   "source": [
    "val_dataset = CorpusDataset(corpus_file_path, vocab, n=context_size)\n",
    "val_data_loader = DataLoader(dataset, batch_size=1, shuffle=True)"
   ]
  },
  {
   "cell_type": "code",
   "execution_count": 87,
   "metadata": {},
   "outputs": [],
   "source": [
    "# instantiate the model, loss function, and optimizer\n",
    "model = FFNNLanguageModel(vocab_size, embedding_dim, hidden_dim,n=context_size).to(device)\n",
    "criterion = nn.CrossEntropyLoss()\n",
    "# criterion=nn.NLLLoss()\n",
    "optimizer = torch.optim.Adam(model.parameters(), lr=0.002)"
   ]
  },
  {
   "cell_type": "code",
   "execution_count": 88,
   "metadata": {},
   "outputs": [
    {
     "name": "stdout",
     "output_type": "stream",
     "text": [
      "Training Iteration 0 of epoch 0  Loss: 8.904492378234863; Acc:0.0; Time taken (s): 0.013465404510498047\n",
      "Training Iteration 1000 of epoch 0  Loss: 8.685979843139648; Acc:0.1826171875; Time taken (s): 2.661414384841919\n",
      "Training Iteration 2000 of epoch 0  Loss: 8.656073570251465; Acc:0.17578125; Time taken (s): 3.06241774559021\n",
      "Training Iteration 3000 of epoch 0  Loss: 8.700812339782715; Acc:0.1826171875; Time taken (s): 2.2853147983551025\n",
      "Training Iteration 4000 of epoch 0  Loss: 8.842225074768066; Acc:0.0625; Time taken (s): 4.590579032897949\n",
      "Training Iteration 5000 of epoch 0  Loss: 8.717225074768066; Acc:0.1826171875; Time taken (s): 2.8957433700561523\n",
      "Training Iteration 6000 of epoch 0  Loss: 8.685973167419434; Acc:0.203125; Time taken (s): 2.2147727012634277\n",
      "Training Iteration 7000 of epoch 0  Loss: 8.842225074768066; Acc:0.0615234375; Time taken (s): 2.180947780609131\n",
      "Training Iteration 8000 of epoch 0  Loss: 8.779725074768066; Acc:0.125; Time taken (s): 2.231170892715454\n",
      "Training Iteration 9000 of epoch 0  Loss: 8.779725074768066; Acc:0.087890625; Time taken (s): 2.2797136306762695\n",
      "Training Iteration 10000 of epoch 0  Loss: 8.810975074768066; Acc:0.09375; Time taken (s): 2.272385835647583\n",
      "Epoch 1/20, Loss: 8.7676,acc: 0.03698224946856499\n",
      "Training Iteration 0 of epoch 1  Loss: 8.810975074768066; Acc:0.087890625; Time taken (s): 0.013008356094360352\n",
      "Training Iteration 1000 of epoch 1  Loss: 8.842225074768066; Acc:0.060546875; Time taken (s): 2.981851577758789\n",
      "Training Iteration 2000 of epoch 1  Loss: 8.74847412109375; Acc:0.08984375; Time taken (s): 3.0198185443878174\n",
      "Training Iteration 3000 of epoch 1  Loss: 8.748475074768066; Acc:0.154296875; Time taken (s): 5.441028356552124\n",
      "Training Iteration 4000 of epoch 1  Loss: 8.810975074768066; Acc:0.0322265625; Time taken (s): 7.7971227169036865\n",
      "Training Iteration 5000 of epoch 1  Loss: 8.748475074768066; Acc:0.146484375; Time taken (s): 4.454918384552002\n",
      "Training Iteration 6000 of epoch 1  Loss: 8.810975074768066; Acc:0.060546875; Time taken (s): 2.9971671104431152\n",
      "Training Iteration 7000 of epoch 1  Loss: 8.685975074768066; Acc:0.123046875; Time taken (s): 3.3150277137756348\n",
      "Training Iteration 8000 of epoch 1  Loss: 8.810975074768066; Acc:0.091796875; Time taken (s): 2.9876291751861572\n",
      "Training Iteration 9000 of epoch 1  Loss: 8.842225074768066; Acc:0.060546875; Time taken (s): 3.849100112915039\n",
      "Training Iteration 10000 of epoch 1  Loss: 8.779725074768066; Acc:0.087890625; Time taken (s): 7.572258949279785\n",
      "Epoch 2/20, Loss: 8.7629,acc: 0.03846153989434242\n",
      "Training Iteration 0 of epoch 2  Loss: 8.748475074768066; Acc:0.1484375; Time taken (s): 0.012900352478027344\n",
      "Training Iteration 1000 of epoch 2  Loss: 8.748475074768066; Acc:0.14453125; Time taken (s): 2.5998220443725586\n",
      "Training Iteration 2000 of epoch 2  Loss: 8.842225074768066; Acc:0.0625; Time taken (s): 2.2683145999908447\n",
      "Training Iteration 3000 of epoch 2  Loss: 8.779725074768066; Acc:0.12109375; Time taken (s): 2.2092578411102295\n",
      "Training Iteration 4000 of epoch 2  Loss: 8.748473167419434; Acc:0.1533203125; Time taken (s): 2.1946909427642822\n",
      "Training Iteration 5000 of epoch 2  Loss: 8.779725074768066; Acc:0.119140625; Time taken (s): 2.268885850906372\n",
      "Training Iteration 6000 of epoch 2  Loss: 8.779725074768066; Acc:0.087890625; Time taken (s): 2.239035129547119\n",
      "Training Iteration 7000 of epoch 2  Loss: 8.748475074768066; Acc:0.1416015625; Time taken (s): 2.1964995861053467\n",
      "Training Iteration 8000 of epoch 2  Loss: 8.873475074768066; Acc:0.03125; Time taken (s): 2.2290096282958984\n",
      "Training Iteration 9000 of epoch 2  Loss: 8.810975074768066; Acc:0.09375; Time taken (s): 2.9455819129943848\n",
      "Training Iteration 10000 of epoch 2  Loss: 8.873475074768066; Acc:0.03125; Time taken (s): 2.3794214725494385\n",
      "Epoch 3/20, Loss: 8.7608,acc: 0.14349111914634705\n",
      "Training Iteration 0 of epoch 3  Loss: 8.685789108276367; Acc:0.19921875; Time taken (s): 0.013249635696411133\n",
      "Training Iteration 1000 of epoch 3  Loss: 8.65472412109375; Acc:0.189453125; Time taken (s): 2.5063745975494385\n",
      "Training Iteration 2000 of epoch 3  Loss: 8.873475074768066; Acc:0.0302734375; Time taken (s): 2.6170260906219482\n",
      "Training Iteration 3000 of epoch 3  Loss: 8.810975074768066; Acc:0.0625; Time taken (s): 3.9986917972564697\n",
      "Training Iteration 4000 of epoch 3  Loss: 8.810975074768066; Acc:0.0615234375; Time taken (s): 5.485853433609009\n",
      "Training Iteration 5000 of epoch 3  Loss: 8.810975074768066; Acc:0.09375; Time taken (s): 2.4003658294677734\n",
      "Training Iteration 6000 of epoch 3  Loss: 8.717225074768066; Acc:0.150390625; Time taken (s): 2.4103832244873047\n",
      "Training Iteration 7000 of epoch 3  Loss: 8.779725074768066; Acc:0.0859375; Time taken (s): 2.9313392639160156\n",
      "Training Iteration 8000 of epoch 3  Loss: 8.641613960266113; Acc:0.17578125; Time taken (s): 2.623623847961426\n",
      "Training Iteration 9000 of epoch 3  Loss: 8.810975074768066; Acc:0.09375; Time taken (s): 2.343355894088745\n",
      "Training Iteration 10000 of epoch 3  Loss: 8.810975074768066; Acc:0.0927734375; Time taken (s): 2.1709558963775635\n",
      "Epoch 4/20, Loss: 8.7608,acc: 0.18934911489486694\n",
      "Training Iteration 0 of epoch 4  Loss: 8.810975074768066; Acc:0.11328125; Time taken (s): 0.009806632995605469\n",
      "Training Iteration 1000 of epoch 4  Loss: 8.842225074768066; Acc:0.060546875; Time taken (s): 2.6137213706970215\n",
      "Training Iteration 2000 of epoch 4  Loss: 8.654725074768066; Acc:0.2421875; Time taken (s): 3.9131953716278076\n",
      "Training Iteration 3000 of epoch 4  Loss: 8.748475074768066; Acc:0.1533203125; Time taken (s): 3.263641119003296\n",
      "Training Iteration 4000 of epoch 4  Loss: 8.810975074768066; Acc:0.1181640625; Time taken (s): 2.316840887069702\n",
      "Training Iteration 5000 of epoch 4  Loss: 8.779725074768066; Acc:0.09375; Time taken (s): 2.2403745651245117\n",
      "Training Iteration 6000 of epoch 4  Loss: 8.623475074768066; Acc:0.2333984375; Time taken (s): 2.462857484817505\n",
      "Training Iteration 7000 of epoch 4  Loss: 8.748475074768066; Acc:0.0849609375; Time taken (s): 2.225403308868408\n",
      "Training Iteration 8000 of epoch 4  Loss: 8.810975074768066; Acc:0.09375; Time taken (s): 2.230494260787964\n",
      "Training Iteration 9000 of epoch 4  Loss: 8.717225074768066; Acc:0.2060546875; Time taken (s): 2.354910135269165\n",
      "Training Iteration 10000 of epoch 4  Loss: 8.810975074768066; Acc:0.06640625; Time taken (s): 2.4876906871795654\n",
      "Epoch 5/20, Loss: 8.7601,acc: 0.21745562553405762\n",
      "Training Iteration 0 of epoch 5  Loss: 8.68597412109375; Acc:0.2265625; Time taken (s): 0.012835979461669922\n",
      "Training Iteration 1000 of epoch 5  Loss: 8.685975074768066; Acc:0.1708984375; Time taken (s): 3.1326141357421875\n",
      "Training Iteration 2000 of epoch 5  Loss: 8.717225074768066; Acc:0.14453125; Time taken (s): 4.6688501834869385\n",
      "Training Iteration 3000 of epoch 5  Loss: 8.842225074768066; Acc:0.0615234375; Time taken (s): 2.687570571899414\n",
      "Training Iteration 4000 of epoch 5  Loss: 8.873475074768066; Acc:0.025390625; Time taken (s): 2.599729299545288\n",
      "Training Iteration 5000 of epoch 5  Loss: 8.717225074768066; Acc:0.1474609375; Time taken (s): 2.225597381591797\n",
      "Training Iteration 6000 of epoch 5  Loss: 8.842225074768066; Acc:0.05859375; Time taken (s): 3.276639938354492\n",
      "Training Iteration 7000 of epoch 5  Loss: 8.779725074768066; Acc:0.0888671875; Time taken (s): 2.8843047618865967\n",
      "Training Iteration 8000 of epoch 5  Loss: 8.685975074768066; Acc:0.1728515625; Time taken (s): 2.195157289505005\n",
      "Training Iteration 9000 of epoch 5  Loss: 8.842225074768066; Acc:0.05859375; Time taken (s): 2.298676013946533\n",
      "Training Iteration 10000 of epoch 5  Loss: 8.717225074768066; Acc:0.1767578125; Time taken (s): 2.3570291996002197\n",
      "Epoch 6/20, Loss: 8.7597,acc: 0.1420118361711502\n",
      "Training Iteration 0 of epoch 6  Loss: 8.623475074768066; Acc:0.3037109375; Time taken (s): 0.010251998901367188\n",
      "Training Iteration 1000 of epoch 6  Loss: 8.779725074768066; Acc:0.125; Time taken (s): 2.2117068767547607\n",
      "Training Iteration 2000 of epoch 6  Loss: 8.810975074768066; Acc:0.05859375; Time taken (s): 2.1935341358184814\n",
      "Training Iteration 3000 of epoch 6  Loss: 8.717225074768066; Acc:0.154296875; Time taken (s): 2.175051212310791\n",
      "Training Iteration 4000 of epoch 6  Loss: 8.685975074768066; Acc:0.18359375; Time taken (s): 2.1879467964172363\n",
      "Training Iteration 5000 of epoch 6  Loss: 8.904725074768066; Acc:0.0; Time taken (s): 2.336852550506592\n",
      "Training Iteration 6000 of epoch 6  Loss: 8.842225074768066; Acc:0.0537109375; Time taken (s): 2.3461451530456543\n",
      "Training Iteration 7000 of epoch 6  Loss: 8.760004997253418; Acc:0.123046875; Time taken (s): 2.6094961166381836\n",
      "Training Iteration 8000 of epoch 6  Loss: 8.623475074768066; Acc:0.265625; Time taken (s): 2.519876718521118\n",
      "Training Iteration 9000 of epoch 6  Loss: 8.748475074768066; Acc:0.08984375; Time taken (s): 3.4715425968170166\n",
      "Training Iteration 10000 of epoch 6  Loss: 8.873475074768066; Acc:0.03125; Time taken (s): 2.2142586708068848\n",
      "Epoch 7/20, Loss: 8.7597,acc: 0.14792899787425995\n",
      "Training Iteration 0 of epoch 7  Loss: 8.810975074768066; Acc:0.0888671875; Time taken (s): 0.013524055480957031\n",
      "Training Iteration 1000 of epoch 7  Loss: 8.685975074768066; Acc:0.14453125; Time taken (s): 2.1993234157562256\n",
      "Training Iteration 2000 of epoch 7  Loss: 8.592225074768066; Acc:0.265625; Time taken (s): 2.373918056488037\n",
      "Training Iteration 3000 of epoch 7  Loss: 8.740897178649902; Acc:0.15625; Time taken (s): 3.472770929336548\n",
      "Training Iteration 4000 of epoch 7  Loss: 8.779725074768066; Acc:0.150390625; Time taken (s): 2.815270185470581\n",
      "Training Iteration 5000 of epoch 7  Loss: 8.81097412109375; Acc:0.091796875; Time taken (s): 2.5315990447998047\n",
      "Training Iteration 6000 of epoch 7  Loss: 8.748475074768066; Acc:0.146484375; Time taken (s): 2.241788625717163\n",
      "Training Iteration 7000 of epoch 7  Loss: 8.685975074768066; Acc:0.150390625; Time taken (s): 2.608463764190674\n",
      "Training Iteration 8000 of epoch 7  Loss: 8.842225074768066; Acc:0.0625; Time taken (s): 2.398254156112671\n",
      "Training Iteration 9000 of epoch 7  Loss: 8.748475074768066; Acc:0.1513671875; Time taken (s): 2.285459041595459\n",
      "Training Iteration 10000 of epoch 7  Loss: 8.748475074768066; Acc:0.119140625; Time taken (s): 2.1400787830352783\n",
      "Epoch 8/20, Loss: 8.7594,acc: 0.06952662765979767\n",
      "Training Iteration 0 of epoch 8  Loss: 8.717225074768066; Acc:0.177734375; Time taken (s): 0.01335763931274414\n",
      "Training Iteration 1000 of epoch 8  Loss: 8.717225074768066; Acc:0.1484375; Time taken (s): 2.514094114303589\n",
      "Training Iteration 2000 of epoch 8  Loss: 8.748475074768066; Acc:0.08984375; Time taken (s): 4.640800476074219\n",
      "Training Iteration 3000 of epoch 8  Loss: 8.77985954284668; Acc:0.08984375; Time taken (s): 5.728748798370361\n",
      "Training Iteration 4000 of epoch 8  Loss: 8.717225074768066; Acc:0.19921875; Time taken (s): 3.6190078258514404\n",
      "Training Iteration 5000 of epoch 8  Loss: 8.779725074768066; Acc:0.1474609375; Time taken (s): 2.8198704719543457\n",
      "Training Iteration 6000 of epoch 8  Loss: 8.810975074768066; Acc:0.03515625; Time taken (s): 2.262845516204834\n",
      "Training Iteration 7000 of epoch 8  Loss: 8.717225074768066; Acc:0.177734375; Time taken (s): 2.2820990085601807\n",
      "Training Iteration 8000 of epoch 8  Loss: 8.810975074768066; Acc:0.0908203125; Time taken (s): 2.196279764175415\n",
      "Training Iteration 9000 of epoch 8  Loss: 8.717225074768066; Acc:0.15234375; Time taken (s): 2.2603554725646973\n",
      "Training Iteration 10000 of epoch 8  Loss: 8.717225074768066; Acc:0.14453125; Time taken (s): 2.2287328243255615\n",
      "Epoch 9/20, Loss: 8.7597,acc: 0.07248520851135254\n",
      "Training Iteration 0 of epoch 9  Loss: 8.748475074768066; Acc:0.0947265625; Time taken (s): 0.013009071350097656\n",
      "Training Iteration 1000 of epoch 9  Loss: 8.810975074768066; Acc:0.08984375; Time taken (s): 3.9609274864196777\n",
      "Training Iteration 2000 of epoch 9  Loss: 8.810975074768066; Acc:0.09375; Time taken (s): 5.102029323577881\n",
      "Training Iteration 3000 of epoch 9  Loss: 8.717225074768066; Acc:0.1435546875; Time taken (s): 2.1910150051116943\n",
      "Training Iteration 4000 of epoch 9  Loss: 8.873475074768066; Acc:0.0009765625; Time taken (s): 2.623426675796509\n",
      "Training Iteration 5000 of epoch 9  Loss: 8.779725074768066; Acc:0.091796875; Time taken (s): 3.141380786895752\n",
      "Training Iteration 6000 of epoch 9  Loss: 8.654725074768066; Acc:0.208984375; Time taken (s): 2.3277595043182373\n",
      "Training Iteration 7000 of epoch 9  Loss: 8.654725074768066; Acc:0.13671875; Time taken (s): 3.109619379043579\n",
      "Training Iteration 8000 of epoch 9  Loss: 8.779725074768066; Acc:0.0849609375; Time taken (s): 3.8227148056030273\n",
      "Training Iteration 9000 of epoch 9  Loss: 8.748475074768066; Acc:0.1513671875; Time taken (s): 2.2890307903289795\n",
      "Training Iteration 10000 of epoch 9  Loss: 8.779725074768066; Acc:0.12109375; Time taken (s): 2.0798869132995605\n",
      "Epoch 10/20, Loss: 8.7593,acc: 0.21449704468250275\n",
      "Training Iteration 0 of epoch 10  Loss: 8.685975074768066; Acc:0.177734375; Time taken (s): 0.0098114013671875\n",
      "Training Iteration 1000 of epoch 10  Loss: 8.717225074768066; Acc:0.111328125; Time taken (s): 2.101515293121338\n",
      "Training Iteration 2000 of epoch 10  Loss: 8.685975074768066; Acc:0.2109375; Time taken (s): 2.0917468070983887\n",
      "Training Iteration 3000 of epoch 10  Loss: 8.779725074768066; Acc:0.11328125; Time taken (s): 2.046982526779175\n",
      "Training Iteration 4000 of epoch 10  Loss: 8.748475074768066; Acc:0.1328125; Time taken (s): 2.060687780380249\n",
      "Training Iteration 5000 of epoch 10  Loss: 8.810975074768066; Acc:0.060546875; Time taken (s): 2.099564552307129\n",
      "Training Iteration 6000 of epoch 10  Loss: 8.779725074768066; Acc:0.091796875; Time taken (s): 2.077380895614624\n",
      "Training Iteration 7000 of epoch 10  Loss: 8.810975074768066; Acc:0.08984375; Time taken (s): 2.130279302597046\n",
      "Training Iteration 8000 of epoch 10  Loss: 8.810975074768066; Acc:0.0849609375; Time taken (s): 2.084270477294922\n",
      "Training Iteration 9000 of epoch 10  Loss: 8.779725074768066; Acc:0.041015625; Time taken (s): 2.1029558181762695\n",
      "Training Iteration 10000 of epoch 10  Loss: 8.810975074768066; Acc:0.064453125; Time taken (s): 2.0743911266326904\n",
      "Epoch 11/20, Loss: 8.7589,acc: 0.09911242872476578\n",
      "Training Iteration 0 of epoch 11  Loss: 8.717225074768066; Acc:0.1533203125; Time taken (s): 0.01313638687133789\n",
      "Training Iteration 1000 of epoch 11  Loss: 8.779725074768066; Acc:0.123046875; Time taken (s): 2.093174934387207\n",
      "Training Iteration 2000 of epoch 11  Loss: 8.717225074768066; Acc:0.177734375; Time taken (s): 2.0974323749542236\n",
      "Training Iteration 3000 of epoch 11  Loss: 8.748475074768066; Acc:0.1533203125; Time taken (s): 2.0351743698120117\n",
      "Training Iteration 4000 of epoch 11  Loss: 8.779725074768066; Acc:0.12109375; Time taken (s): 2.0377230644226074\n",
      "Training Iteration 5000 of epoch 11  Loss: 8.717225074768066; Acc:0.12109375; Time taken (s): 2.122185707092285\n",
      "Training Iteration 6000 of epoch 11  Loss: 8.748475074768066; Acc:0.123046875; Time taken (s): 2.0938172340393066\n",
      "Training Iteration 7000 of epoch 11  Loss: 8.779725074768066; Acc:0.12109375; Time taken (s): 2.1208484172821045\n",
      "Training Iteration 8000 of epoch 11  Loss: 8.842225074768066; Acc:0.0576171875; Time taken (s): 2.1203770637512207\n",
      "Training Iteration 9000 of epoch 11  Loss: 8.717225074768066; Acc:0.1533203125; Time taken (s): 2.1065828800201416\n",
      "Training Iteration 10000 of epoch 11  Loss: 8.685975074768066; Acc:0.1796875; Time taken (s): 2.079965353012085\n",
      "Epoch 12/20, Loss: 8.7597,acc: 0.1834319531917572\n",
      "Training Iteration 0 of epoch 12  Loss: 8.717225074768066; Acc:0.1103515625; Time taken (s): 0.012907266616821289\n",
      "Training Iteration 1000 of epoch 12  Loss: 8.717225074768066; Acc:0.1982421875; Time taken (s): 2.0821704864501953\n",
      "Training Iteration 2000 of epoch 12  Loss: 8.779725074768066; Acc:0.08984375; Time taken (s): 2.1973912715911865\n",
      "Training Iteration 3000 of epoch 12  Loss: 8.748475074768066; Acc:0.1162109375; Time taken (s): 2.102978229522705\n",
      "Training Iteration 4000 of epoch 12  Loss: 8.717225074768066; Acc:0.1162109375; Time taken (s): 2.2995383739471436\n",
      "Training Iteration 5000 of epoch 12  Loss: 8.810975074768066; Acc:0.091796875; Time taken (s): 2.2637815475463867\n",
      "Training Iteration 6000 of epoch 12  Loss: 8.779725074768066; Acc:0.05859375; Time taken (s): 2.1831138134002686\n",
      "Training Iteration 7000 of epoch 12  Loss: 8.810975074768066; Acc:0.0615234375; Time taken (s): 2.1727874279022217\n",
      "Training Iteration 8000 of epoch 12  Loss: 8.748475074768066; Acc:0.177734375; Time taken (s): 2.1121838092803955\n",
      "Training Iteration 9000 of epoch 12  Loss: 8.717225074768066; Acc:0.0830078125; Time taken (s): 2.756408214569092\n",
      "Training Iteration 10000 of epoch 12  Loss: 8.842225074768066; Acc:0.033203125; Time taken (s): 2.158412218093872\n",
      "Epoch 13/20, Loss: 8.7593,acc: 0.1538461595773697\n",
      "Training Iteration 0 of epoch 13  Loss: 8.810975074768066; Acc:0.08984375; Time taken (s): 0.012932538986206055\n",
      "Training Iteration 1000 of epoch 13  Loss: 8.779725074768066; Acc:0.12109375; Time taken (s): 2.1404991149902344\n",
      "Training Iteration 2000 of epoch 13  Loss: 8.810975074768066; Acc:0.08984375; Time taken (s): 2.1648142337799072\n",
      "Training Iteration 3000 of epoch 13  Loss: 8.779725074768066; Acc:0.125; Time taken (s): 2.1618683338165283\n",
      "Training Iteration 4000 of epoch 13  Loss: 8.779725074768066; Acc:0.08984375; Time taken (s): 2.762442111968994\n",
      "Training Iteration 5000 of epoch 13  Loss: 8.810975074768066; Acc:0.060546875; Time taken (s): 2.477146625518799\n",
      "Training Iteration 6000 of epoch 13  Loss: 8.685975074768066; Acc:0.177734375; Time taken (s): 2.616250991821289\n",
      "Training Iteration 7000 of epoch 13  Loss: 8.74847412109375; Acc:0.08203125; Time taken (s): 2.222541570663452\n",
      "Training Iteration 8000 of epoch 13  Loss: 8.717225074768066; Acc:0.1728515625; Time taken (s): 2.8168601989746094\n",
      "Training Iteration 9000 of epoch 13  Loss: 8.748475074768066; Acc:0.119140625; Time taken (s): 2.1482813358306885\n",
      "Training Iteration 10000 of epoch 13  Loss: 8.810975074768066; Acc:0.0556640625; Time taken (s): 2.098024845123291\n",
      "Epoch 14/20, Loss: 8.7589,acc: 0.0\n",
      "Training Iteration 0 of epoch 14  Loss: 8.685975074768066; Acc:0.1953125; Time taken (s): 0.010900497436523438\n",
      "Training Iteration 1000 of epoch 14  Loss: 8.810975074768066; Acc:0.0625; Time taken (s): 2.343648910522461\n",
      "Training Iteration 2000 of epoch 14  Loss: 8.779725074768066; Acc:0.0927734375; Time taken (s): 2.2234833240509033\n",
      "Training Iteration 3000 of epoch 14  Loss: 8.717225074768066; Acc:0.150390625; Time taken (s): 2.25213623046875\n",
      "Training Iteration 4000 of epoch 14  Loss: 8.685975074768066; Acc:0.1181640625; Time taken (s): 2.367493152618408\n",
      "Training Iteration 5000 of epoch 14  Loss: 8.717225074768066; Acc:0.1220703125; Time taken (s): 2.218329668045044\n",
      "Training Iteration 6000 of epoch 14  Loss: 8.810975074768066; Acc:0.091796875; Time taken (s): 2.734206199645996\n",
      "Training Iteration 7000 of epoch 14  Loss: 8.748475074768066; Acc:0.140625; Time taken (s): 3.490140914916992\n",
      "Training Iteration 8000 of epoch 14  Loss: 8.810975074768066; Acc:0.0927734375; Time taken (s): 3.220865249633789\n",
      "Training Iteration 9000 of epoch 14  Loss: 8.779725074768066; Acc:0.125; Time taken (s): 2.9252474308013916\n",
      "Training Iteration 10000 of epoch 14  Loss: 8.748475074768066; Acc:0.0908203125; Time taken (s): 2.2215750217437744\n",
      "Epoch 15/20, Loss: 8.7586,acc: 0.18047337234020233\n",
      "Training Iteration 0 of epoch 15  Loss: 8.748475074768066; Acc:0.12109375; Time taken (s): 0.013182640075683594\n",
      "Training Iteration 1000 of epoch 15  Loss: 8.748475074768066; Acc:0.0595703125; Time taken (s): 2.0758044719696045\n",
      "Training Iteration 2000 of epoch 15  Loss: 8.685975074768066; Acc:0.173828125; Time taken (s): 2.060800313949585\n",
      "Training Iteration 3000 of epoch 15  Loss: 8.623475074768066; Acc:0.236328125; Time taken (s): 2.1056861877441406\n",
      "Training Iteration 4000 of epoch 15  Loss: 8.592225074768066; Acc:0.23828125; Time taken (s): 2.1146011352539062\n",
      "Training Iteration 5000 of epoch 15  Loss: 8.654725074768066; Acc:0.142578125; Time taken (s): 2.140021324157715\n",
      "Training Iteration 6000 of epoch 15  Loss: 8.810975074768066; Acc:0.09375; Time taken (s): 2.0758352279663086\n",
      "Training Iteration 7000 of epoch 15  Loss: 8.779725074768066; Acc:0.125; Time taken (s): 2.803251028060913\n",
      "Training Iteration 8000 of epoch 15  Loss: 8.748475074768066; Acc:0.1474609375; Time taken (s): 2.403778076171875\n",
      "Training Iteration 9000 of epoch 15  Loss: 8.717225074768066; Acc:0.142578125; Time taken (s): 2.2215678691864014\n",
      "Training Iteration 10000 of epoch 15  Loss: 8.592225074768066; Acc:0.166015625; Time taken (s): 2.3094699382781982\n",
      "Epoch 16/20, Loss: 8.7584,acc: 0.19230769574642181\n",
      "Training Iteration 0 of epoch 16  Loss: 8.748475074768066; Acc:0.1484375; Time taken (s): 0.010461807250976562\n",
      "Training Iteration 1000 of epoch 16  Loss: 8.779725074768066; Acc:0.0908203125; Time taken (s): 2.7942965030670166\n",
      "Training Iteration 2000 of epoch 16  Loss: 8.717225074768066; Acc:0.1533203125; Time taken (s): 3.0585272312164307\n",
      "Training Iteration 3000 of epoch 16  Loss: 8.717225074768066; Acc:0.1875; Time taken (s): 2.2299859523773193\n",
      "Training Iteration 4000 of epoch 16  Loss: 8.77972412109375; Acc:0.087890625; Time taken (s): 2.860759973526001\n",
      "Training Iteration 5000 of epoch 16  Loss: 8.842225074768066; Acc:0.0625; Time taken (s): 3.3699452877044678\n",
      "Training Iteration 6000 of epoch 16  Loss: 8.779727935791016; Acc:0.1181640625; Time taken (s): 2.752362012863159\n",
      "Training Iteration 7000 of epoch 16  Loss: 8.654725074768066; Acc:0.2236328125; Time taken (s): 3.0381884574890137\n",
      "Training Iteration 8000 of epoch 16  Loss: 8.717225074768066; Acc:0.09375; Time taken (s): 2.5951449871063232\n",
      "Training Iteration 9000 of epoch 16  Loss: 8.717225074768066; Acc:0.140625; Time taken (s): 2.776263475418091\n",
      "Training Iteration 10000 of epoch 16  Loss: 8.748475074768066; Acc:0.17578125; Time taken (s): 3.546983003616333\n",
      "Epoch 17/20, Loss: 8.7580,acc: 0.1494082808494568\n",
      "Training Iteration 0 of epoch 17  Loss: 8.810975074768066; Acc:0.0341796875; Time taken (s): 0.013370990753173828\n",
      "Training Iteration 1000 of epoch 17  Loss: 8.873475074768066; Acc:0.0283203125; Time taken (s): 2.441063642501831\n",
      "Training Iteration 2000 of epoch 17  Loss: 8.748475074768066; Acc:0.1123046875; Time taken (s): 2.891622304916382\n",
      "Training Iteration 3000 of epoch 17  Loss: 8.810975074768066; Acc:0.078125; Time taken (s): 2.688525915145874\n",
      "Training Iteration 4000 of epoch 17  Loss: 8.748475074768066; Acc:0.146484375; Time taken (s): 2.383143901824951\n",
      "Training Iteration 5000 of epoch 17  Loss: 8.748475074768066; Acc:0.1435546875; Time taken (s): 3.2149980068206787\n",
      "Training Iteration 6000 of epoch 17  Loss: 8.748475074768066; Acc:0.13671875; Time taken (s): 2.9561972618103027\n",
      "Training Iteration 7000 of epoch 17  Loss: 8.779725074768066; Acc:0.083984375; Time taken (s): 2.581961154937744\n",
      "Training Iteration 8000 of epoch 17  Loss: 8.779725074768066; Acc:0.0625; Time taken (s): 2.2170286178588867\n",
      "Training Iteration 9000 of epoch 17  Loss: 8.717225074768066; Acc:0.08984375; Time taken (s): 2.4828059673309326\n",
      "Training Iteration 10000 of epoch 17  Loss: 8.779725074768066; Acc:0.0888671875; Time taken (s): 2.2325098514556885\n",
      "Epoch 18/20, Loss: 8.7579,acc: 0.07396449893712997\n",
      "Training Iteration 0 of epoch 18  Loss: 8.748475074768066; Acc:0.115234375; Time taken (s): 0.010179758071899414\n",
      "Training Iteration 1000 of epoch 18  Loss: 8.779725074768066; Acc:0.0947265625; Time taken (s): 2.3981130123138428\n",
      "Training Iteration 2000 of epoch 18  Loss: 8.717225074768066; Acc:0.1357421875; Time taken (s): 2.9568028450012207\n",
      "Training Iteration 3000 of epoch 18  Loss: 8.810975074768066; Acc:0.087890625; Time taken (s): 3.312880277633667\n",
      "Training Iteration 4000 of epoch 18  Loss: 8.779725074768066; Acc:0.12109375; Time taken (s): 2.6932740211486816\n",
      "Training Iteration 5000 of epoch 18  Loss: 8.685975074768066; Acc:0.2119140625; Time taken (s): 2.1294825077056885\n",
      "Training Iteration 6000 of epoch 18  Loss: 8.842225074768066; Acc:0.060546875; Time taken (s): 2.4265224933624268\n",
      "Training Iteration 7000 of epoch 18  Loss: 8.873475074768066; Acc:0.0029296875; Time taken (s): 2.1557207107543945\n",
      "Training Iteration 8000 of epoch 18  Loss: 8.717225074768066; Acc:0.169921875; Time taken (s): 2.163125514984131\n",
      "Training Iteration 9000 of epoch 18  Loss: 8.810975074768066; Acc:0.0849609375; Time taken (s): 2.295200824737549\n",
      "Training Iteration 10000 of epoch 18  Loss: 8.748475074768066; Acc:0.12109375; Time taken (s): 2.1020350456237793\n",
      "Epoch 19/20, Loss: 8.7577,acc: 0.07692307978868484\n",
      "Training Iteration 0 of epoch 19  Loss: 8.685975074768066; Acc:0.2119140625; Time taken (s): 0.012990713119506836\n",
      "Training Iteration 1000 of epoch 19  Loss: 8.717225074768066; Acc:0.14453125; Time taken (s): 2.083407163619995\n",
      "Training Iteration 2000 of epoch 19  Loss: 8.717225074768066; Acc:0.140625; Time taken (s): 2.084451198577881\n",
      "Training Iteration 3000 of epoch 19  Loss: 8.779725074768066; Acc:0.0888671875; Time taken (s): 2.123948335647583\n",
      "Training Iteration 4000 of epoch 19  Loss: 8.810975074768066; Acc:0.060546875; Time taken (s): 2.248677968978882\n",
      "Training Iteration 5000 of epoch 19  Loss: 8.810975074768066; Acc:0.060546875; Time taken (s): 2.244053602218628\n",
      "Training Iteration 6000 of epoch 19  Loss: 8.654725074768066; Acc:0.234375; Time taken (s): 2.2822489738464355\n",
      "Training Iteration 7000 of epoch 19  Loss: 8.654725074768066; Acc:0.20703125; Time taken (s): 2.351809024810791\n",
      "Training Iteration 8000 of epoch 19  Loss: 8.748475074768066; Acc:0.11328125; Time taken (s): 2.353632688522339\n",
      "Training Iteration 9000 of epoch 19  Loss: 8.779725074768066; Acc:0.0908203125; Time taken (s): 2.568483829498291\n",
      "Training Iteration 10000 of epoch 19  Loss: 8.779725074768066; Acc:0.1201171875; Time taken (s): 2.5440614223480225\n",
      "Epoch 20/20, Loss: 8.7577,acc: 0.19230769574642181\n"
     ]
    }
   ],
   "source": [
    "model,train_losses,train_accu=train_model(data_loader,model,criterion,optimizer,num_epochs)\n"
   ]
  },
  {
   "cell_type": "code",
   "execution_count": 89,
   "metadata": {},
   "outputs": [
    {
     "data": {
      "image/png": "[encoded data removed]",
      "text/plain": [
       "<Figure size 640x480 with 1 Axes>"
      ]
     },
     "metadata": {},
     "output_type": "display_data"
    },
    {
     "data": {
      "image/png": "[encoded data removed]",
      "text/plain": [
       "<Figure size 640x480 with 1 Axes>"
      ]
     },
     "metadata": {},
     "output_type": "display_data"
    }
   ],
   "source": [
    "torch.save(model, f'./FFLM_{num_epochs}_{context_size}gram.pth')\n",
    "plot_charts(train_losses,train_accu)\n"
   ]
  },
  {
   "cell_type": "code",
   "execution_count": 42,
   "metadata": {},
   "outputs": [],
   "source": [
    "model=torch.load('./FFLM_20_2gram.pth')\n"
   ]
  },
  {
   "cell_type": "code",
   "execution_count": 46,
   "metadata": {},
   "outputs": [],
   "source": [
    "num_batches = 0\n",
    "with torch.no_grad():\n",
    "    for i, (inputs, labels) in enumerate(val_data_loader):\n",
    "        # Get predictions from the model\n",
    "        outputs = model(inputs)\n",
    "        # Compute the loss\n",
    "        loss = F.cross_entropy(outputs, labels.view(-1))\n",
    "        total_loss += loss.item()\n",
    "        num_batches += 1"
   ]
  },
  {
   "cell_type": "code",
   "execution_count": 47,
   "metadata": {},
   "outputs": [],
   "source": [
    "perplexity = torch.exp(torch.tensor(total_loss / num_batches))"
   ]
  },
  {
   "cell_type": "code",
   "execution_count": 48,
   "metadata": {},
   "outputs": [
    {
     "data": {
      "text/plain": [
       "tensor(8.4319e+08)"
      ]
     },
     "execution_count": 48,
     "metadata": {},
     "output_type": "execute_result"
    }
   ],
   "source": [
    "perplexity"
   ]
  }
 ],
 "metadata": {
  "kernelspec": {
   "display_name": "Python 3",
   "language": "python",
   "name": "python3"
  },
  "language_info": {
   "codemirror_mode": {
    "name": "ipython",
    "version": 3
   },
   "file_extension": ".py",
   "mimetype": "text/x-python",
   "name": "python",
   "nbconvert_exporter": "python",
   "pygments_lexer": "ipython3",
   "version": "3.8.10"
  },
  "orig_nbformat": 4
 },
 "nbformat": 4,
 "nbformat_minor": 2
}
